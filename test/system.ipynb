{
 "cells": [
  {
   "cell_type": "code",
   "execution_count": 1,
   "metadata": {},
   "outputs": [
    {
     "name": "stdout",
     "output_type": "stream",
     "text": [
      "['ls', '-l']\n",
      "total 36\n",
      "-rw-rw-r-- 1 jctuesta jctuesta   256 мая 23 05:29 system.ipynb\n",
      "-rw-rw-r-- 1 jctuesta jctuesta 30309 мая 23 05:24 test.ipynb\n",
      ".\n",
      "├── system.ipynb\n",
      "└── test.ipynb\n",
      "\n",
      "0 directories, 2 files\n",
      "total 36\n",
      "-rw-rw-r-- 1 jctuesta jctuesta   256 мая 23 05:29 system.ipynb\n",
      "-rw-rw-r-- 1 jctuesta jctuesta 30309 мая 23 05:24 test.ipynb\n",
      "brute_force.cpp\n",
      "brute_force.h\n",
      "dp.cpp\n",
      "dp.h\n",
      "generator.cpp\n",
      "generator.h\n",
      "input\n",
      "LC.cpp\n",
      "LC.h\n",
      "main.cpp\n",
      "out\n"
     ]
    },
    {
     "data": {
      "text/plain": [
       "0"
      ]
     },
     "execution_count": 1,
     "metadata": {},
     "output_type": "execute_result"
    }
   ],
   "source": [
    "import subprocess\n",
    " \n",
    "arg  = [\"ls\"] + [\"-l\"]\n",
    "print(arg)\n",
    "subprocess.call([\"ls\", \"-l\"])\n",
    "subprocess.call([\"tree\"])\n",
    "subprocess.call(arg)\n",
    "subprocess.call('ls', shell=True, cwd='/home/jctuesta/Documents/cppPractice/python/Knapsack_problem/scr/')"
   ]
  },
  {
   "cell_type": "code",
   "execution_count": 3,
   "metadata": {},
   "outputs": [
    {
     "name": "stdout",
     "output_type": "stream",
     "text": [
      "//Dinamic Programic method\n",
      "#include \"dp.h\"\n",
      "int dinamic_programing(int W, std::vector<int>& wt, std::vector<int>& profit, int n) {\n",
      "    std::vector<int> dp (W + 1, 0);\n",
      "\n",
      "    for (int i = 1; i < n + 1; ++i) {\n",
      "        for (int w = W; w >= 0; --w) {\n",
      "\n",
      "            if (wt[i - 1] <= w)\n",
      "                // finding the maximum profit\n",
      "                dp[w] = std::max(dp[w],\n",
      "                                 dp[w - wt[i - 1]] + profit[i - 1]);\n",
      "        }\n",
      "    }\n",
      "    return dp[W]; // returning the maximum profit of knapsack\n",
      "}\n"
     ]
    },
    {
     "data": {
      "text/plain": [
       "0"
      ]
     },
     "execution_count": 3,
     "metadata": {},
     "output_type": "execute_result"
    }
   ],
   "source": [
    "subprocess.call([\"cat\", \"/home/jctuesta/Documents/cppPractice/python/Knapsack_problem/scr/dp.cpp\"])"
   ]
  },
  {
   "cell_type": "code",
   "execution_count": 4,
   "metadata": {},
   "outputs": [
    {
     "name": "stdout",
     "output_type": "stream",
     "text": [
      "//Intene serching method\n",
      "#include \"brute_force.h\"\n",
      "int brute_force (int capacity, std::vector<int> &weight, std::vector<int> &profit) {\n",
      "\n",
      "    size_t bit_w = 1;\n",
      "    size_t sum_w = 0;\n",
      "    size_t profit_tmp = 0;\n",
      "    size_t profit_max = 0;\n",
      "\n",
      "    for (size_t i = 1; i < (bit_w << profit.size()); i++) {\n",
      "        //\tstd::cout  <<\"---------\" <<std::bitset<4>(i) << std::endl;\n",
      "        for (size_t j = 0; j < profit.size(); ++j) {\n",
      "            //std::cout << std::bitset<4>(1<<j) <<\" --j--\";\n",
      "            if (i & (bit_w << j) ) { //j is part of\n",
      "                sum_w += weight[j];\n",
      "                profit_tmp += profit[j];\n",
      "            }\n",
      "            //std::cout << std::endl;\n",
      "            //std::cout << \"-sum_i-: \" << sum_w << \"-- profit : \" << profit_tmp  << std::endl;\n",
      "        }\n",
      "        if (profit_max <= profit_tmp && sum_w <= capacity) {\n",
      "            profit_max = profit_tmp;\n",
      "            //set solution (1<<i)\n",
      "        }\n",
      "        profit_tmp = 0;\n",
      "        sum_w = 0;\n",
      "    }\n",
      "    return profit_max;\n",
      "}"
     ]
    },
    {
     "data": {
      "text/plain": [
       "0"
      ]
     },
     "execution_count": 4,
     "metadata": {},
     "output_type": "execute_result"
    }
   ],
   "source": [
    "subprocess.call([\"cat\", \"/home/jctuesta/Documents/cppPractice/python/Knapsack_problem/scr/brute_force.cpp\"])"
   ]
  },
  {
   "cell_type": "code",
   "execution_count": null,
   "metadata": {},
   "outputs": [],
   "source": []
  }
 ],
 "metadata": {
  "interpreter": {
   "hash": "916dbcbb3f70747c44a77c7bcd40155683ae19c65e1c03b4aa3499c5328201f1"
  },
  "kernelspec": {
   "display_name": "Python 3.8.10 64-bit",
   "language": "python",
   "name": "python3"
  },
  "language_info": {
   "codemirror_mode": {
    "name": "ipython",
    "version": 3
   },
   "file_extension": ".py",
   "mimetype": "text/x-python",
   "name": "python",
   "nbconvert_exporter": "python",
   "pygments_lexer": "ipython3",
   "version": "3.8.10"
  },
  "orig_nbformat": 4
 },
 "nbformat": 4,
 "nbformat_minor": 2
}
