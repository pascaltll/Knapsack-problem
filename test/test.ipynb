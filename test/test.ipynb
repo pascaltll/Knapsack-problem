{
 "cells": [
  {
   "cell_type": "code",
   "execution_count": 2,
   "metadata": {},
   "outputs": [
    {
     "name": "stdout",
     "output_type": "stream",
     "text": [
      "['ls', '-l']\n",
      "total 108\n",
      "-rwxrwxr-x 1 jctuesta jctuesta 55480 апр 24 18:51 a.out\n",
      "-rwxrwxr-x 1 jctuesta jctuesta 27816 апр 24 20:16 generator\n",
      "-rw-rw-r-- 1 jctuesta jctuesta  1088 апр 24 20:16 generator.cpp\n",
      "-rw-rw-r-- 1 jctuesta jctuesta 16808 апр 19 03:21 test.ipynb\n",
      ".\n",
      "├── a.out\n",
      "├── generator\n",
      "├── generator.cpp\n",
      "└── test.ipynb\n",
      "\n",
      "0 directories, 4 files\n",
      "total 108\n",
      "-rwxrwxr-x 1 jctuesta jctuesta 55480 апр 24 18:51 a.out\n",
      "-rwxrwxr-x 1 jctuesta jctuesta 27816 апр 24 20:16 generator\n",
      "-rw-rw-r-- 1 jctuesta jctuesta  1088 апр 24 20:16 generator.cpp\n",
      "-rw-rw-r-- 1 jctuesta jctuesta 16808 апр 19 03:21 test.ipynb\n",
      "brute_force.cpp\n",
      "brute_force.h\n",
      "dp.cpp\n",
      "dp.h\n",
      "input\n",
      "LC.cpp\n",
      "LC.h\n",
      "main.cpp\n",
      "out\n"
     ]
    },
    {
     "data": {
      "text/plain": [
       "0"
      ]
     },
     "execution_count": 2,
     "metadata": {},
     "output_type": "execute_result"
    }
   ],
   "source": [
    "import subprocess\n",
    " \n",
    "arg  = [\"ls\"] + [\"-l\"]\n",
    "print(arg)\n",
    "subprocess.call([\"ls\", \"-l\"])\n",
    "subprocess.call([\"tree\"])\n",
    "\n",
    "subprocess.call(arg)\n",
    "subprocess.call('ls', shell=True, cwd='/home/jctuesta/Documents/cppPractice/python/Knapsack_problem/scr/')"
   ]
  },
  {
   "cell_type": "code",
   "execution_count": 3,
   "metadata": {},
   "outputs": [
    {
     "name": "stdout",
     "output_type": "stream",
     "text": [
      "//Dinamic Programic method\n",
      "#include \"dp.h\"\n",
      "int dinamic_programing(int W, std::vector<int>& wt, std::vector<int>& profit, int n) {\n",
      "    std::vector<int> dp (W + 1, 0);\n",
      "\n",
      "    for (int i = 1; i < n + 1; ++i) {\n",
      "        for (int w = W; w >= 0; --w) {\n",
      "\n",
      "            if (wt[i - 1] <= w)\n",
      "                // finding the maximum profit\n",
      "                dp[w] = std::max(dp[w],\n",
      "                                 dp[w - wt[i - 1]] + profit[i - 1]);\n",
      "        }\n",
      "    }\n",
      "    return dp[W]; // returning the maximum profit of knapsack\n",
      "}\n"
     ]
    },
    {
     "data": {
      "text/plain": [
       "0"
      ]
     },
     "execution_count": 3,
     "metadata": {},
     "output_type": "execute_result"
    }
   ],
   "source": [
    "subprocess.call([\"cat\", \"/home/jctuesta/Documents/cppPractice/python/Knapsack_problem/scr/dp.cpp\"])"
   ]
  },
  {
   "cell_type": "code",
   "execution_count": 4,
   "metadata": {},
   "outputs": [
    {
     "name": "stdout",
     "output_type": "stream",
     "text": [
      "//llbb method\n",
      "#include \"LC.h\"\n",
      "\n",
      "void cast_data(Node& a, float upper_b, float lower_b, int level, bool flag, float tree_v, float tree_w) {\n",
      "    a.upper_b = upper_b;\n",
      "    a.lower_b = lower_b;\n",
      "    a.level = level;\n",
      "    a.flag = flag;\n",
      "    a.tree_v = tree_v;\n",
      "    a.tree_w = tree_w;\n",
      "}\n",
      "\n",
      "LC::LC(int weight_max, std::vector<int> &weight, std::vector<int> &profit) {\n",
      "    _capacity = weight_max;\n",
      "    _size = profit.size();\n",
      "    for (int i = 0; i < _size; ++i) {\n",
      "        _arr.push_back(Item{.weight = static_cast<float>(weight[i]),\n",
      "                .profit = profit[i] ,\n",
      "                .idx = i});\n",
      "    }\n",
      "}\n",
      "\n",
      "float LC::upper_bound(float tree_v, float tree_w, int idx) {\n",
      "    float value = tree_v;\n",
      "    float weight = tree_w;\n",
      "    for (int i = idx; i < _size; i++) {\n",
      "        if (weight + _arr[i].weight <= _capacity) {\n",
      "            weight += _arr[i].weight;\n",
      "            value -= _arr[i].profit;\n",
      "        } else {\n",
      "            value -= (float)(_capacity - weight) / _arr[i].weight * _arr[i].profit;\n",
      "            break;\n",
      "        }"
     ]
    },
    {
     "data": {
      "text/plain": [
       "0"
      ]
     },
     "execution_count": 4,
     "metadata": {},
     "output_type": "execute_result"
    },
    {
     "name": "stdout",
     "output_type": "stream",
     "text": [
      "\n",
      "    }\n",
      "    return value;\n",
      "}\n",
      "\n",
      "float LC::lower_bound(float tree_v, float tree_w, int idx) {\n",
      "    float value = tree_v;\n",
      "    float weight = tree_w;\n",
      "    for (int i = idx; i < _size; i++) {\n",
      "        if (weight + _arr[i].weight <= _capacity) {\n",
      "            weight += _arr[i].weight;\n",
      "            value -= _arr[i].profit;\n",
      "        } else {\n",
      "            break;\n",
      "        }\n",
      "    }\n",
      "    return value;\n",
      "}\n",
      "int LC::knapsack() {\n",
      "    sort(_arr.begin(), _arr.end(), [&](Item& a, Item& b) { return a.profit / a.weight > b.profit / b.weight; });\n",
      "    float min_lower_b = 0;\n",
      "    float final_lower_b = INT_MAX;\n",
      "\n",
      "    std::vector<bool> curr_path(_size, false);\n",
      "    std::vector<bool> final_path(_size, false);\n",
      "    std::priority_queue<Node, std::vector<Node>, comp>pq;\n",
      "    Node left, right;\n",
      "    Node current;\n",
      "    cast_data(current, 0, 0, 0, 0, 0, 0);\n",
      "\n",
      "    pq.push(current);\n",
      "\n",
      "    while (!pq.empty()) {\n",
      "        current = pq.top();\n",
      "        pq.pop();\n",
      "        if (current.upper_b > min_lower_b || current.upper_b >= final_lower_b) {\n",
      "            continue;\n",
      "        }\n",
      "        if (current.level != 0) {\n",
      "            curr_path[current.level - 1] = current.flag;\n",
      "        }\n",
      "        if (current.level == _size) {\n",
      "            if (current.lower_b < final_lower_b)\n",
      "                for (int i = 0; i < _size; i++) {\n",
      "                    final_path[_arr[i].idx] = curr_path[i];\n",
      "                }\n",
      "            final_lower_b = std::min(current.lower_b, final_lower_b);\n",
      "            continue;\n",
      "        }\n",
      "        int level = current.level;\n",
      "        cast_data(right,\n",
      "                  upper_bound(current.tree_v, current.tree_w, level + 1),\n",
      "                  lower_bound(current.tree_v, current.tree_w, level + 1),\n",
      "                  level + 1,\n",
      "                  false,\n",
      "                  current.tree_v,\n",
      "                  current.tree_w);\n",
      "        if (current.tree_w + _arr[current.level].weight <= _capacity) {\n",
      "            left.upper_b = upper_bound(current.tree_v - _arr[level].profit,\n",
      "                                       current.tree_w + _arr[level].weight,\n",
      "                                       level + 1);\n",
      "            left.lower_b = lower_bound(current.tree_v - _arr[level].profit,\n",
      "                                       current.tree_w + _arr[level].weight,\n",
      "                                       level + 1);\n",
      "            cast_data(left,\n",
      "                      left.upper_b,\n",
      "                      left.lower_b,\n",
      "                      level + 1,\n",
      "                      true,\n",
      "                      current.tree_v - _arr[level].profit,\n",
      "                      current.tree_w + _arr[level].weight);\n",
      "        } else {\n",
      "            left.upper_b = left.lower_b = 1;\n",
      "        }\n",
      "        min_lower_b = std::min(min_lower_b, left.lower_b);\n",
      "        min_lower_b = std::min(min_lower_b, right.lower_b);\n",
      "\n",
      "        if (min_lower_b >= left.upper_b)\n",
      "            pq.push(left);\n",
      "        if (min_lower_b >= right.upper_b)\n",
      "            pq.push(right);\n",
      "    }\n",
      "\n",
      "    if (final_lower_b == INT_MAX)\n",
      "        final_lower_b = 0;\n",
      "    return -final_lower_b;\n",
      "}\n"
     ]
    }
   ],
   "source": [
    "subprocess.call([\"cat\", \"/home/jctuesta/Documents/cppPractice/python/Knapsack_problem/scr/LC.cpp\"])"
   ]
  },
  {
   "cell_type": "code",
   "execution_count": 5,
   "metadata": {},
   "outputs": [
    {
     "name": "stdout",
     "output_type": "stream",
     "text": [
      "//Intene serching method\n",
      "#include \"brute_force.h\"\n",
      "int brute_force (int capacity, std::vector<int> &weight, std::vector<int> &profit) {\n",
      "\n",
      "    size_t bit_w = 1;\n",
      "    size_t sum_w = 0;\n",
      "    size_t profit_tmp = 0;\n",
      "    size_t profit_max = 0;\n",
      "\n",
      "    for (size_t i = 1; i < (bit_w << profit.size()); i++) {\n",
      "        //\tstd::cout  <<\"---------\" <<std::bitset<4>(i) << std::endl;\n",
      "        for (size_t j = 0; j < profit.size(); ++j) {\n",
      "            //std::cout << std::bitset<4>(1<<j) <<\" --j--\";\n",
      "            if (i & (bit_w << j) ) { //j is part of\n",
      "                sum_w += weight[j];\n",
      "                profit_tmp += profit[j];\n",
      "            }\n",
      "            //std::cout << std::endl;\n",
      "            //std::cout << \"-sum_i-: \" << sum_w << \"-- profit : \" << profit_tmp  << std::endl;\n",
      "        }\n",
      "        if (profit_max <= profit_tmp && sum_w <= capacity) {\n",
      "            profit_max = profit_tmp;\n",
      "            //set solution (1<<i)\n",
      "        }\n",
      "        profit_tmp = 0;\n",
      "        sum_w = 0;\n",
      "    }\n",
      "    return profit_max;\n",
      "}"
     ]
    },
    {
     "data": {
      "text/plain": [
       "0"
      ]
     },
     "execution_count": 5,
     "metadata": {},
     "output_type": "execute_result"
    }
   ],
   "source": [
    "subprocess.call([\"cat\", \"/home/jctuesta/Documents/cppPractice/python/Knapsack_problem/scr/brute_force.cpp\"])"
   ]
  },
  {
   "cell_type": "code",
   "execution_count": 6,
   "metadata": {},
   "outputs": [
    {
     "name": "stdout",
     "output_type": "stream",
     "text": [
      "#include<iostream>\n",
      "#include <vector>\n",
      "#include \"LC.h\"\n",
      "#include \"dp.h\"\n",
      "#include \"brute_force.h\"\n",
      "#include <chrono>\n",
      "#include \"generator.h\"\n",
      "\n",
      "void test(int capacity, std::vector<int>& weight, std::vector<int>& profit) {\n",
      "\n",
      "    std::cout << \"Elapsed time in nanoseconds: \" << std::endl;\n",
      "    auto start_bf = std::chrono::steady_clock::now();\n",
      "    int result_bt =  brute_force(capacity, weight, profit);\n",
      "    auto end_bf = std::chrono::steady_clock::now();\n",
      "    std::cout << std::chrono::duration_cast<std::chrono::nanoseconds>(end_bf - start_bf).count()\n",
      "              << \" ns\" << std::endl;//10^9ns = 1 s\n",
      "    \n",
      "    auto start_dp = std::chrono::steady_clock::now();\n",
      "    int result_dp = dinamic_programing(capacity, weight, profit, profit.size());\n",
      "    auto end_dp = std::chrono::steady_clock::now();\n",
      "    std::cout << std::chrono::duration_cast<std::chrono::nanoseconds>(end_dp - start_dp).count()\n",
      "              << \" ns\" << std::endl;\n",
      "    \n",
      "    LC branch_bound(capacity, weight, profit);\n",
      "    auto start_bb = std::chrono::steady_clock::now();\n",
      "    int result_bb = branch_bound.knapsack();\n",
      "    auto end_bb = std::chrono::steady_clock::now();\n",
      "    std::cout << std::chrono::duration_cast<std::chrono::nanoseconds>(end_bb - start_bf).count()\n",
      "              << \" ns\" << std::endl;\n",
      "\n",
      "\n",
      "}\n",
      "\n",
      "int main() {\n",
      "   \n",
      "    int capacity = 15;\n",
      "    int n = 20;\n",
      "    std::vector<int> profit(n);\n",
      "    std::vector<int> weight(n);\n",
      "    generator(n,weight, profit);\n",
      "    test(capacity,weight, profit);\n",
      "\n",
      "    return 0;\n",
      "}\n"
     ]
    },
    {
     "data": {
      "text/plain": [
       "0"
      ]
     },
     "execution_count": 6,
     "metadata": {},
     "output_type": "execute_result"
    }
   ],
   "source": [
    "subprocess.call([\"cat\", \"/home/jctuesta/Documents/cppPractice/python/Knapsack_problem/scr/main.cpp\"])"
   ]
  },
  {
   "cell_type": "code",
   "execution_count": 7,
   "metadata": {},
   "outputs": [],
   "source": [
    "import os\n",
    "\n",
    "#def Cpp_Execution():\n",
    "    # creating a pipe to child process\n",
    "    #data, temp = os.pipe()\n",
    "    # writing inputs to stdin and using utf-8 to convert it to byte string\n",
    "    #os.write(temp, bytes(\"7 12\\n\", \"utf-8\"));\n",
    "    #os.close(temp)\n",
    "    # storing output as a byte string\n",
    "    #s = subprocess.check_output(\"g++ /home/jctuesta/Documents/cppPractice/python/Knapsack_problem/scr/main.cpp -o out;./out\", stdin = data, shell = True)\n",
    "\n",
    "    #s = subprocess.check_output(\"g++ /home/jctuesta/Documents/cppPractice/python/Knapsack_problem/scr/main.cpp -o out;./out\", shell = True)\n",
    "\n",
    "    # decoding to print a normal output\n",
    "\n",
    "    #print(s.decode(\"utf-8\"))\n",
    "    #Cpp_Execution()"
   ]
  },
  {
   "cell_type": "code",
   "execution_count": 17,
   "metadata": {},
   "outputs": [
    {
     "name": "stdout",
     "output_type": "stream",
     "text": [
      "[20, 222760513, 18538, 222822337]\n"
     ]
    }
   ],
   "source": [
    "import subprocess\n",
    "\n",
    "\n",
    "str(' '.join(arg))\n",
    "s = subprocess.check_output(\"g++ main.cpp LC.cpp LC.h brute_force.cpp brute_force.h dp.cpp dp.h generator.cpp generator.h -o out;./out\" , shell = True, cwd='/home/jctuesta/Documents/cppPractice/python/Knapsack_problem/scr/')\n",
    "\n",
    "a = list(s.decode(\"utf-8\").split())\n",
    "a = [int(x) for x in a]\n",
    "print(a)"
   ]
  },
  {
   "cell_type": "code",
   "execution_count": 1,
   "metadata": {},
   "outputs": [
    {
     "ename": "NameError",
     "evalue": "name 'subprocess' is not defined",
     "output_type": "error",
     "traceback": [
      "\u001b[0;31m---------------------------------------------------------------------------\u001b[0m",
      "\u001b[0;31mNameError\u001b[0m                                 Traceback (most recent call last)",
      "\u001b[0;32m/tmp/ipykernel_30933/3315002752.py\u001b[0m in \u001b[0;36m<module>\u001b[0;34m\u001b[0m\n\u001b[0;32m----> 1\u001b[0;31m \u001b[0msubprocess\u001b[0m\u001b[0;34m.\u001b[0m\u001b[0mcall\u001b[0m\u001b[0;34m(\u001b[0m\u001b[0;34m'ls'\u001b[0m\u001b[0;34m,\u001b[0m \u001b[0mshell\u001b[0m\u001b[0;34m=\u001b[0m\u001b[0;32mTrue\u001b[0m\u001b[0;34m,\u001b[0m \u001b[0mcwd\u001b[0m\u001b[0;34m=\u001b[0m\u001b[0;34m'/home/jctuesta/Documents/cppPractice/python/Knapsack_problem/scr/'\u001b[0m\u001b[0;34m)\u001b[0m\u001b[0;34m\u001b[0m\u001b[0;34m\u001b[0m\u001b[0m\n\u001b[0m",
      "\u001b[0;31mNameError\u001b[0m: name 'subprocess' is not defined"
     ]
    }
   ],
   "source": [
    "\n",
    "subprocess.call('ls', shell=True, cwd='/home/jctuesta/Documents/cppPractice/python/Knapsack_problem/scr/')"
   ]
  },
  {
   "cell_type": "code",
   "execution_count": null,
   "metadata": {},
   "outputs": [],
   "source": []
  }
 ],
 "metadata": {
  "interpreter": {
   "hash": "3e013d30b648d552f53b2ccd0546ca49e94f1a6464ffd7e05d9fab58f53c3528"
  },
  "kernelspec": {
   "display_name": "Python 3.9.7 ('base')",
   "language": "python",
   "name": "python3"
  },
  "language_info": {
   "codemirror_mode": {
    "name": "ipython",
    "version": 3
   },
   "file_extension": ".py",
   "mimetype": "text/x-python",
   "name": "python",
   "nbconvert_exporter": "python",
   "pygments_lexer": "ipython3",
   "version": "3.9.7"
  },
  "orig_nbformat": 4
 },
 "nbformat": 4,
 "nbformat_minor": 2
}
