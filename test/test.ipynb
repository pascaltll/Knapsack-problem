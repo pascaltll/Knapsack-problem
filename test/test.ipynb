{
 "cells": [
  {
   "cell_type": "code",
   "execution_count": 59,
   "metadata": {},
   "outputs": [
    {
     "name": "stdout",
     "output_type": "stream",
     "text": [
      "total 124\n",
      "-rw-rw-r-- 1 jctuesta jctuesta   160 апр 19 00:26 hello.cpp\n",
      "-rw-rw-r-- 1 jctuesta jctuesta    79 апр 19 00:40 hi.cpp\n",
      "-rwxrwxr-x 1 jctuesta jctuesta 93760 апр 19 01:19 out\n",
      "-rwxrwxr-x 1 jctuesta jctuesta 17168 апр 19 01:19 out2\n",
      "-rw-rw-r-- 1 jctuesta jctuesta  2948 апр 19 00:56 test.ipynb\n",
      "-rw-rw-r-- 1 jctuesta jctuesta     0 апр 19 00:09 test_py.py\n",
      ".\n",
      "├── hello.cpp\n",
      "├── hi.cpp\n",
      "├── out\n",
      "├── out2\n",
      "├── test.ipynb\n",
      "└── test_py.py\n",
      "\n",
      "0 directories, 6 files\n",
      "#include <iostream>\n",
      "\n",
      "int main()\n",
      "\n",
      "{\n",
      "\n",
      "    int a, b;\n",
      "\n",
      "    std::cin >> a >> b;\n",
      "\n",
      "    std::cout << \"C++ says Hello World! Values are:\" << a << \" \" << b;\n",
      "\n",
      "return 0;\n",
      "\n",
      "}"
     ]
    },
    {
     "data": {
      "text/plain": [
       "0"
      ]
     },
     "execution_count": 59,
     "metadata": {},
     "output_type": "execute_result"
    }
   ],
   "source": [
    "import subprocess\n",
    "\n",
    "subprocess.call([\"ls\", \"-l\"])\n",
    "subprocess.call([\"tree\"])\n"
   ]
  },
  {
   "cell_type": "code",
   "execution_count": null,
   "metadata": {},
   "outputs": [],
   "source": []
  },
  {
   "cell_type": "code",
   "execution_count": 63,
   "metadata": {},
   "outputs": [
    {
     "name": "stdout",
     "output_type": "stream",
     "text": [
      "#include <iostream>\n",
      "\n",
      "int main()\n",
      "\n",
      "{\n",
      "\n",
      "    int a, b;\n",
      "\n",
      "    std::cin >> a >> b;\n",
      "\n",
      "    std::cout << \"C++ says Hello World! Values are:\" << a << \" \" << b;\n",
      "\n",
      "return 0;\n",
      "\n",
      "}"
     ]
    },
    {
     "data": {
      "text/plain": [
       "0"
      ]
     },
     "execution_count": 63,
     "metadata": {},
     "output_type": "execute_result"
    }
   ],
   "source": [
    "subprocess.call([\"cat\", \"/home/jctuesta/Documents/cppPractice/python/Knapsack_problem/scr/he.cpp\"])"
   ]
  },
  {
   "cell_type": "code",
   "execution_count": 56,
   "metadata": {},
   "outputs": [],
   "source": [
    "import os\n",
    "\n",
    "def Cpp_Execution():\n",
    "    # creating a pipe to child process\n",
    "    #data, temp = os.pipe()\n",
    "    # writing inputs to stdin and using utf-8 to convert it to byte string\n",
    "    #os.write(temp, bytes(\"7 12\\n\", \"utf-8\"));\n",
    "    #os.close(temp)\n",
    "    # storing output as a byte string\n",
    "    #s = subprocess.check_output(\"g++ /home/jctuesta/Documents/cppPractice/python/Knapsack_problem/scr/main.cpp -o out;./out\", stdin = data, shell = True)\n",
    "\n",
    "    s = subprocess.check_output(\"g++ /home/jctuesta/Documents/cppPractice/python/Knapsack_problem/scr/main.cpp -o out;./out\", shell = True)\n",
    "\n",
    "    # decoding to print a normal output\n",
    "\n",
    "    print(s.decode(\"utf-8\"))"
   ]
  },
  {
   "cell_type": "code",
   "execution_count": 57,
   "metadata": {},
   "outputs": [
    {
     "name": "stdout",
     "output_type": "stream",
     "text": [
      "38\n",
      "38\n",
      "38\n",
      "\n"
     ]
    }
   ],
   "source": [
    "Cpp_Execution()\n"
   ]
  },
  {
   "cell_type": "code",
   "execution_count": 58,
   "metadata": {},
   "outputs": [],
   "source": []
  },
  {
   "cell_type": "code",
   "execution_count": null,
   "metadata": {},
   "outputs": [],
   "source": []
  }
 ],
 "metadata": {
  "interpreter": {
   "hash": "3e013d30b648d552f53b2ccd0546ca49e94f1a6464ffd7e05d9fab58f53c3528"
  },
  "kernelspec": {
   "display_name": "Python 3.9.7 ('base')",
   "language": "python",
   "name": "python3"
  },
  "language_info": {
   "codemirror_mode": {
    "name": "ipython",
    "version": 3
   },
   "file_extension": ".py",
   "mimetype": "text/x-python",
   "name": "python",
   "nbconvert_exporter": "python",
   "pygments_lexer": "ipython3",
   "version": "3.9.7"
  },
  "orig_nbformat": 4
 },
 "nbformat": 4,
 "nbformat_minor": 2
}
