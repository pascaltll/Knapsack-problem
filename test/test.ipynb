{
 "cells": [
  {
   "cell_type": "code",
   "execution_count": 1,
   "metadata": {},
   "outputs": [
    {
     "name": "stdout",
     "output_type": "stream",
     "text": [
      "total 28\n",
      "-rw-rw-r-- 1 jctuesta jctuesta   160 апр 19 00:26 hello.cpp\n",
      "-rwxrwxr-x 1 jctuesta jctuesta 17360 апр 19 00:27 out2\n",
      "-rw-rw-r-- 1 jctuesta jctuesta   256 апр 19 00:10 test.ipynb\n",
      "-rw-rw-r-- 1 jctuesta jctuesta     0 апр 19 00:09 test_py.py\n",
      ".\n",
      "├── hello.cpp\n",
      "├── out2\n",
      "├── test.ipynb\n",
      "└── test_py.py\n",
      "\n",
      "0 directories, 4 files\n"
     ]
    },
    {
     "data": {
      "text/plain": [
       "0"
      ]
     },
     "execution_count": 1,
     "metadata": {},
     "output_type": "execute_result"
    }
   ],
   "source": [
    "import subprocess\n",
    "\n",
    "subprocess.call([\"ls\", \"-l\"])\n",
    "subprocess.call([\"tree\"])"
   ]
  },
  {
   "cell_type": "code",
   "execution_count": 21,
   "metadata": {},
   "outputs": [],
   "source": [
    "import os\n",
    "\n",
    "def Cpp_Execution():\n",
    "\n",
    "    # creating a pipe to child process\n",
    "\n",
    "    data, temp = os.pipe()\n",
    "\n",
    "    # writing inputs to stdin and using utf-8 to convert it to byte string\n",
    "\n",
    "    os.write(temp, bytes(\"7 12\\n\", \"utf-8\"));\n",
    "\n",
    "    os.close(temp)\n",
    "\n",
    "    # storing output as a byte string\n",
    "\n",
    "    s = subprocess.check_output(\"g++ hello.cpp -o out2;./out2\", stdin = data, shell = True)\n",
    "\n",
    "    # decoding to print a normal output\n",
    "\n",
    "    print(s.decode(\"utf-8\"))"
   ]
  },
  {
   "cell_type": "code",
   "execution_count": 23,
   "metadata": {},
   "outputs": [
    {
     "name": "stdout",
     "output_type": "stream",
     "text": [
      "C++ says Hello World! Values are:7 12\n"
     ]
    }
   ],
   "source": [
    "Cpp_Execution()\n"
   ]
  },
  {
   "cell_type": "code",
   "execution_count": 30,
   "metadata": {},
   "outputs": [],
   "source": [
    "from subprocess import Popen, PIPE\n",
    "p = Popen(['g++ hi.cpp -o out2;./out2'], shell=True, stdout=PIPE, stdin=PIPE)\n"
   ]
  },
  {
   "cell_type": "code",
   "execution_count": null,
   "metadata": {},
   "outputs": [],
   "source": []
  }
 ],
 "metadata": {
  "interpreter": {
   "hash": "3e013d30b648d552f53b2ccd0546ca49e94f1a6464ffd7e05d9fab58f53c3528"
  },
  "kernelspec": {
   "display_name": "Python 3.9.7 ('base')",
   "language": "python",
   "name": "python3"
  },
  "language_info": {
   "codemirror_mode": {
    "name": "ipython",
    "version": 3
   },
   "file_extension": ".py",
   "mimetype": "text/x-python",
   "name": "python",
   "nbconvert_exporter": "python",
   "pygments_lexer": "ipython3",
   "version": "3.9.7"
  },
  "orig_nbformat": 4
 },
 "nbformat": 4,
 "nbformat_minor": 2
}
