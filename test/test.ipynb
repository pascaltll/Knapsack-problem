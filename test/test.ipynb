{
 "cells": [
  {
   "cell_type": "code",
   "execution_count": 64,
   "metadata": {},
   "outputs": [
    {
     "name": "stdout",
     "output_type": "stream",
     "text": [
      "total 36\n",
      "-rw-rw-r-- 1 jctuesta jctuesta   160 апр 19 01:36 hello.cpp\n",
      "-rw-rw-r-- 1 jctuesta jctuesta    76 апр 19 01:36 hi.cpp\n",
      "-rwxrwxr-x 1 jctuesta jctuesta 17168 апр 19 01:19 out2\n",
      "-rw-rw-r-- 1 jctuesta jctuesta  4422 апр 19 01:36 test.ipynb\n"
     ]
    },
    {
     "data": {
      "text/plain": [
       "0"
      ]
     },
     "execution_count": 64,
     "metadata": {},
     "output_type": "execute_result"
    },
    {
     "name": "stdout",
     "output_type": "stream",
     "text": [
      ".\n",
      "├── hello.cpp\n",
      "├── hi.cpp\n",
      "├── out2\n",
      "└── test.ipynb\n",
      "\n",
      "0 directories, 4 files\n"
     ]
    }
   ],
   "source": [
    "import subprocess\n",
    "\n",
    "subprocess.call([\"ls\", \"-l\"])\n",
    "subprocess.call([\"tree\"])\n"
   ]
  },
  {
   "cell_type": "code",
   "execution_count": 65,
   "metadata": {},
   "outputs": [
    {
     "name": "stdout",
     "output_type": "stream",
     "text": [
      "//\n",
      "// Created by jctuesta on 19.04.2022.\n",
      "//\n",
      "#include <vector>\n",
      "int dinamic_programing(int W, std::vector<int>& wt, std::vector<int> val, int n) {\n",
      "    std::vector<int> dp (W + 1, 0);\n",
      "\n",
      "    for (int i = 1; i < n + 1; ++i) {\n",
      "        for (int w = W; w >= 0; --w) {\n",
      "\n",
      "            if (wt[i - 1] <= w)\n",
      "                // finding the maximum profit\n",
      "                dp[w] = std::max(dp[w],\n",
      "                                 dp[w - wt[i - 1]] + val[i - 1]);\n",
      "        }\n",
      "    }\n",
      "    return dp[W]; // returning the maximum profit of knapsack\n",
      "}\n"
     ]
    },
    {
     "data": {
      "text/plain": [
       "0"
      ]
     },
     "execution_count": 65,
     "metadata": {},
     "output_type": "execute_result"
    }
   ],
   "source": [
    "subprocess.call([\"cat\", \"/home/jctuesta/Documents/cppPractice/python/Knapsack_problem/scr/dp.cpp\"])"
   ]
  },
  {
   "cell_type": "code",
   "execution_count": 66,
   "metadata": {},
   "outputs": [
    {
     "name": "stdout",
     "output_type": "stream",
     "text": [
      "//\n",
      "// Created by jctuesta on 19.04.2022.\n",
      "//\n",
      "\n",
      "#include \"LC.h\"\n",
      "\n",
      "void cast_data(Node& a, float upper_b, float lower_b, int level, bool flag, float tree_v, float tree_w) {\n",
      "    a.upper_b = upper_b;\n",
      "    a.lower_b = lower_b;\n",
      "    a.level = level;\n",
      "    a.flag = flag;\n",
      "    a.tree_v = tree_v;\n",
      "    a.tree_w = tree_w;\n",
      "}\n",
      "\n",
      "LC::LC(int weight_max, std::vector<int> &weight, std::vector<int> &profit) {\n",
      "    _capacity = weight_max;\n",
      "    _size = profit.size();\n",
      "    for (int i = 0; i < _size; ++i) {\n",
      "        _arr.push_back(Item{.weight = static_cast<float>(weight[i]),\n",
      "                .profit = profit[i] ,\n",
      "                .idx = i});\n",
      "    }\n",
      "}\n",
      "\n",
      "float LC::upper_bound(float tree_v, float tree_w, int idx) {\n",
      "    float value = tree_v;\n",
      "    float weight = tree_w;\n",
      "    for (int i = idx; i < _size; i++) {\n",
      "        if (weight + _arr[i].weight <= _capacity) {\n",
      "            weight += _arr[i].weight;\n",
      "            value -= _arr[i].profit;\n",
      "        } else {\n",
      "            value -= (float)(_capacity - weight) / _arr[i].weight * _arr[i].profit;\n",
      "            break;\n",
      "        }\n",
      "    }\n",
      "    return value;\n",
      "}\n",
      "\n",
      "float LC::lower_bound(float tree_v, float tree_w, int idx) {\n",
      "    float value = tree_v;\n",
      "    float weight = tree_w;\n",
      "    for (int i = idx; i < _size; i++) {\n",
      "        if (weight + _arr[i].weight <= _capacity) {\n",
      "            weight += _arr[i].weight;\n",
      "            value -= _arr[i].profit;\n",
      "        } else {\n",
      "            break;\n",
      "        }\n",
      "    }\n",
      "    return value;\n",
      "}\n",
      "int LC::knapsack() {\n",
      "    sort(_arr.begin(), _arr.end(), [&](Item& a, Item& b) { return a.profit / a.weight > b.profit / b.weight; });\n",
      "    float min_lower_b = 0;\n",
      "    float final_lower_b = INT_MAX;\n",
      "\n",
      "    std::vector<bool> curr_path(_size, false);\n",
      "    std::vector<bool> final_path(_size, false);\n",
      "    std::priority_queue<Node, std::vector<Node>, comp>pq;\n",
      "    Node left, right;\n",
      "    Node current;\n",
      "    cast_data(current, 0, 0, 0, 0, 0, 0);\n",
      "\n",
      "    pq.push(current);\n",
      "\n",
      "    while (!pq.empty()) {\n",
      "        current = pq.top();\n",
      "        pq.pop();\n",
      "        if (current.upper_b > min_lower_b || current.upper_b >= final_lower_b) {\n",
      "            continue;\n",
      "        }\n",
      "        if (current.level != 0) {\n",
      "            curr_path[current.level - 1] = current.flag;\n",
      "        }\n",
      "        if (current.level == _size) {\n",
      "            if (current.lower_b < final_lower_b)\n",
      "                for (int i = 0; i < _size; i++) {\n",
      "                    final_path[_arr[i].idx] = curr_path[i];\n",
      "                }\n",
      "            final_lower_b = std::min(current.lower_b, final_lower_b);\n",
      "            continue;\n",
      "        }\n",
      "        int level = current.level;\n",
      "        cast_data(right,\n",
      "                  upper_bound(current.tree_v, current.tree_w, level + 1),\n",
      "                  lower_bound(current.tree_v, current.tree_w, level + 1),\n",
      "                  level + 1,\n",
      "                  false,\n",
      "                  current.tree_v,\n",
      "                  current.tree_w);\n",
      "        if (current.tree_w + _arr[current.level].weight <= _capacity) {\n",
      "            left.upper_b = upper_bound(current.tree_v - _arr[level].profit,\n",
      "                                       current.tree_w + _arr[level].weight,\n",
      "                                       level + 1);\n",
      "            left.lower_b = lower_bound(current.tree_v - _arr[level].profit,\n",
      "                                       current.tree_w + _arr[level].weight,\n",
      "                                       level + 1);\n",
      "            cast_data(left,\n",
      "                      left.upper_b,\n",
      "                      left.lower_b,\n",
      "                      level + 1,\n",
      "                      true,\n",
      "                      current.tree_v - _arr[level].profit,\n",
      "                      current.tree_w + _arr[level].weight);\n",
      "        } else {\n",
      "            left.upper_b = left.lower_b = 1;\n",
      "        }\n",
      "        min_lower_b = std::min(min_lower_b, left.lower_b);\n",
      "        min_lower_b = std::min(min_lower_b, right.lower_b);\n",
      "\n",
      "        if (min_lower_b >= left.upper_b)\n",
      "            pq.push(left);\n",
      "        if (min_lower_b >= right.upper_b)\n",
      "            pq.push(right);\n",
      "    }\n",
      "\n",
      "    if (final_lower_b == INT_MAX)\n",
      "        final_lower_b = 0;\n",
      "    return -final_lower_b;\n",
      "}\n"
     ]
    },
    {
     "data": {
      "text/plain": [
       "0"
      ]
     },
     "execution_count": 66,
     "metadata": {},
     "output_type": "execute_result"
    }
   ],
   "source": [
    "subprocess.call([\"cat\", \"/home/jctuesta/Documents/cppPractice/python/Knapsack_problem/scr/LC.cpp\"])"
   ]
  },
  {
   "cell_type": "code",
   "execution_count": null,
   "metadata": {},
   "outputs": [],
   "source": []
  },
  {
   "cell_type": "code",
   "execution_count": 67,
   "metadata": {},
   "outputs": [
    {
     "name": "stdout",
     "output_type": "stream",
     "text": [
      "//\n",
      "// Created by jctuesta on 19.04.2022.\n",
      "//\n",
      "#include <vector>\n",
      "int brute_force (int capacity, std::vector<int> &weight, std::vector<int> &value) {\n",
      "\n",
      "    size_t bit_w = 1;\n",
      "    size_t sum_w = 0;\n",
      "    size_t profit_tmp = 0;\n",
      "    size_t profit_max = 0;\n",
      "\n",
      "    for (size_t i = 1; i < (bit_w << value.size()); i++) {\n",
      "        //\tstd::cout  <<\"---------\" <<std::bitset<4>(i) << std::endl;\n",
      "        for (size_t j = 0; j < value.size(); ++j) {\n",
      "            //std::cout << std::bitset<4>(1<<j) <<\" --j--\";\n",
      "            if (i & (bit_w << j) ) { //j is part of\n",
      "                sum_w += weight[j];\n",
      "                profit_tmp += value[j];\n",
      "            }\n",
      "            //std::cout << std::endl;\n",
      "            //std::cout << \"-sum_i-: \" << sum_w << \"-- profit : \" << profit_tmp  << std::endl;\n",
      "        }\n",
      "        if (profit_max <= profit_tmp && sum_w <= capacity) {\n",
      "            profit_max = profit_tmp;\n",
      "            //set solution (1<<i)\n",
      "        }\n",
      "        profit_tmp = 0;\n",
      "        sum_w = 0;\n",
      "    }\n",
      "    return profit_max;\n",
      "}"
     ]
    },
    {
     "data": {
      "text/plain": [
       "0"
      ]
     },
     "execution_count": 67,
     "metadata": {},
     "output_type": "execute_result"
    }
   ],
   "source": [
    "subprocess.call([\"cat\", \"/home/jctuesta/Documents/cppPractice/python/Knapsack_problem/scr/brute_force.cpp\"])"
   ]
  },
  {
   "cell_type": "code",
   "execution_count": 68,
   "metadata": {},
   "outputs": [
    {
     "name": "stdout",
     "output_type": "stream",
     "text": [
      "#include<iostream>\n",
      "#include <vector>\n",
      "//#include <bitset>\n",
      "#include \"LC.h\"\n",
      "\n",
      "\n",
      "int brute_force (int capacity, std::vector<int> &weight, std::vector<int> &value) {\n",
      "\n",
      "    size_t bit_w = 1;\n",
      "    size_t sum_w = 0;\n",
      "    size_t profit_tmp = 0;\n",
      "    size_t profit_max = 0;\n",
      "\n",
      "    for (size_t i = 1; i < (bit_w << value.size()); i++) {\n",
      "        //\tstd::cout  <<\"---------\" <<std::bitset<4>(i) << std::endl;\n",
      "        for (size_t j = 0; j < value.size(); ++j) {\n",
      "            //std::cout << std::bitset<4>(1<<j) <<\" --j--\";\n",
      "            if (i & (bit_w << j) ) { //j is part of\n",
      "                sum_w += weight[j];\n",
      "                profit_tmp += value[j];\n",
      "            }\n",
      "            //std::cout << std::endl;\n",
      "            //std::cout << \"-sum_i-: \" << sum_w << \"-- profit : \" << profit_tmp  << std::endl;\n",
      "        }\n",
      "        if (profit_max <= profit_tmp && sum_w <= capacity) {\n",
      "            profit_max = profit_tmp;\n",
      "            //set solution (1<<i)\n",
      "        }\n",
      "        profit_tmp = 0;\n",
      "        sum_w = 0;\n",
      "    }\n",
      "    return profit_max;\n",
      "}\n",
      "\n",
      "int dinamic_programing(int W, std::vector<int>& wt, std::vector<int> val, int n) {\n",
      "    std::vector<int> dp (W + 1, 0);\n",
      "    \n",
      "    for (int i = 1; i < n + 1; ++i) {\n",
      "        for (int w = W; w >= 0; --w) {\n",
      "\n",
      "            if (wt[i - 1] <= w)\n",
      "                // finding the maximum profit\n",
      "                dp[w] = std::max(dp[w],\n",
      "                                 dp[w - wt[i - 1]] + val[i - 1]);\n",
      "        }\n",
      "    }\n",
      "    return dp[W]; // returning the maximum profit of knapsack\n",
      "}\n",
      "\n",
      "\n",
      "int main() {\n",
      "    std::vector<int> val = { 10, 10, 12, 18 };\n",
      "    std::vector<int> wt = { 2, 4, 6, 9 };\n",
      "    int capacity = 15;\n",
      "    int n = val.size();\n",
      "\n",
      "    std::cout << dinamic_programing(capacity, wt, val, n) << std::endl;\n",
      "    std::cout << brute_force(capacity, wt, val) <<std::endl;\n",
      "\n",
      "    LC branch_bound(capacity, wt, val);\n",
      "    std::cout << branch_bound.knapsack() << std::endl;\n",
      "\n",
      "    return 0;\n",
      "}\n"
     ]
    },
    {
     "data": {
      "text/plain": [
       "0"
      ]
     },
     "execution_count": 68,
     "metadata": {},
     "output_type": "execute_result"
    }
   ],
   "source": [
    "subprocess.call([\"cat\", \"/home/jctuesta/Documents/cppPractice/python/Knapsack_problem/scr/main.cpp\"])"
   ]
  },
  {
   "cell_type": "code",
   "execution_count": 62,
   "metadata": {},
   "outputs": [],
   "source": [
    "import os\n",
    "\n",
    "def Cpp_Execution():\n",
    "    # creating a pipe to child process\n",
    "    #data, temp = os.pipe()\n",
    "    # writing inputs to stdin and using utf-8 to convert it to byte string\n",
    "    #os.write(temp, bytes(\"7 12\\n\", \"utf-8\"));\n",
    "    #os.close(temp)\n",
    "    # storing output as a byte string\n",
    "    #s = subprocess.check_output(\"g++ /home/jctuesta/Documents/cppPractice/python/Knapsack_problem/scr/main.cpp -o out;./out\", stdin = data, shell = True)\n",
    "\n",
    "    s = subprocess.check_output(\"g++ /home/jctuesta/Documents/cppPractice/python/Knapsack_problem/scr/main.cpp -o out;./out\", shell = True)\n",
    "\n",
    "    # decoding to print a normal output\n",
    "\n",
    "    print(s.decode(\"utf-8\"))"
   ]
  },
  {
   "cell_type": "code",
   "execution_count": 63,
   "metadata": {},
   "outputs": [
    {
     "name": "stderr",
     "output_type": "stream",
     "text": [
      "/usr/bin/ld: /tmp/cc8WE2uT.o: in function `main':\n",
      "main.cpp:(.text+0x4a8): undefined reference to `LC::LC(int, std::vector<int, std::allocator<int> >&, std::vector<int, std::allocator<int> >&)'\n",
      "/usr/bin/ld: main.cpp:(.text+0x4b4): undefined reference to `LC::knapsack()'\n",
      "collect2: error: ld returned 1 exit status\n",
      "/bin/sh: 1: ./out: not found\n"
     ]
    },
    {
     "ename": "CalledProcessError",
     "evalue": "Command 'g++ /home/jctuesta/Documents/cppPractice/python/Knapsack_problem/scr/main.cpp -o out;./out' returned non-zero exit status 127.",
     "output_type": "error",
     "traceback": [
      "\u001b[0;31m---------------------------------------------------------------------------\u001b[0m",
      "\u001b[0;31mCalledProcessError\u001b[0m                        Traceback (most recent call last)",
      "\u001b[0;32m/tmp/ipykernel_82736/981021485.py\u001b[0m in \u001b[0;36m<module>\u001b[0;34m\u001b[0m\n\u001b[0;32m----> 1\u001b[0;31m \u001b[0mCpp_Execution\u001b[0m\u001b[0;34m(\u001b[0m\u001b[0;34m)\u001b[0m\u001b[0;34m\u001b[0m\u001b[0;34m\u001b[0m\u001b[0m\n\u001b[0m",
      "\u001b[0;32m/tmp/ipykernel_82736/1301903040.py\u001b[0m in \u001b[0;36mCpp_Execution\u001b[0;34m()\u001b[0m\n\u001b[1;32m     10\u001b[0m     \u001b[0;31m#s = subprocess.check_output(\"g++ /home/jctuesta/Documents/cppPractice/python/Knapsack_problem/scr/main.cpp -o out;./out\", stdin = data, shell = True)\u001b[0m\u001b[0;34m\u001b[0m\u001b[0;34m\u001b[0m\u001b[0m\n\u001b[1;32m     11\u001b[0m \u001b[0;34m\u001b[0m\u001b[0m\n\u001b[0;32m---> 12\u001b[0;31m     \u001b[0ms\u001b[0m \u001b[0;34m=\u001b[0m \u001b[0msubprocess\u001b[0m\u001b[0;34m.\u001b[0m\u001b[0mcheck_output\u001b[0m\u001b[0;34m(\u001b[0m\u001b[0;34m\"g++ /home/jctuesta/Documents/cppPractice/python/Knapsack_problem/scr/main.cpp -o out;./out\"\u001b[0m\u001b[0;34m,\u001b[0m \u001b[0mshell\u001b[0m \u001b[0;34m=\u001b[0m \u001b[0;32mTrue\u001b[0m\u001b[0;34m)\u001b[0m\u001b[0;34m\u001b[0m\u001b[0;34m\u001b[0m\u001b[0m\n\u001b[0m\u001b[1;32m     13\u001b[0m \u001b[0;34m\u001b[0m\u001b[0m\n\u001b[1;32m     14\u001b[0m     \u001b[0;31m# decoding to print a normal output\u001b[0m\u001b[0;34m\u001b[0m\u001b[0;34m\u001b[0m\u001b[0m\n",
      "\u001b[0;32m~/anaconda3/lib/python3.9/subprocess.py\u001b[0m in \u001b[0;36mcheck_output\u001b[0;34m(timeout, *popenargs, **kwargs)\u001b[0m\n\u001b[1;32m    422\u001b[0m         \u001b[0mkwargs\u001b[0m\u001b[0;34m[\u001b[0m\u001b[0;34m'input'\u001b[0m\u001b[0;34m]\u001b[0m \u001b[0;34m=\u001b[0m \u001b[0mempty\u001b[0m\u001b[0;34m\u001b[0m\u001b[0;34m\u001b[0m\u001b[0m\n\u001b[1;32m    423\u001b[0m \u001b[0;34m\u001b[0m\u001b[0m\n\u001b[0;32m--> 424\u001b[0;31m     return run(*popenargs, stdout=PIPE, timeout=timeout, check=True,\n\u001b[0m\u001b[1;32m    425\u001b[0m                **kwargs).stdout\n\u001b[1;32m    426\u001b[0m \u001b[0;34m\u001b[0m\u001b[0m\n",
      "\u001b[0;32m~/anaconda3/lib/python3.9/subprocess.py\u001b[0m in \u001b[0;36mrun\u001b[0;34m(input, capture_output, timeout, check, *popenargs, **kwargs)\u001b[0m\n\u001b[1;32m    526\u001b[0m         \u001b[0mretcode\u001b[0m \u001b[0;34m=\u001b[0m \u001b[0mprocess\u001b[0m\u001b[0;34m.\u001b[0m\u001b[0mpoll\u001b[0m\u001b[0;34m(\u001b[0m\u001b[0;34m)\u001b[0m\u001b[0;34m\u001b[0m\u001b[0;34m\u001b[0m\u001b[0m\n\u001b[1;32m    527\u001b[0m         \u001b[0;32mif\u001b[0m \u001b[0mcheck\u001b[0m \u001b[0;32mand\u001b[0m \u001b[0mretcode\u001b[0m\u001b[0;34m:\u001b[0m\u001b[0;34m\u001b[0m\u001b[0;34m\u001b[0m\u001b[0m\n\u001b[0;32m--> 528\u001b[0;31m             raise CalledProcessError(retcode, process.args,\n\u001b[0m\u001b[1;32m    529\u001b[0m                                      output=stdout, stderr=stderr)\n\u001b[1;32m    530\u001b[0m     \u001b[0;32mreturn\u001b[0m \u001b[0mCompletedProcess\u001b[0m\u001b[0;34m(\u001b[0m\u001b[0mprocess\u001b[0m\u001b[0;34m.\u001b[0m\u001b[0margs\u001b[0m\u001b[0;34m,\u001b[0m \u001b[0mretcode\u001b[0m\u001b[0;34m,\u001b[0m \u001b[0mstdout\u001b[0m\u001b[0;34m,\u001b[0m \u001b[0mstderr\u001b[0m\u001b[0;34m)\u001b[0m\u001b[0;34m\u001b[0m\u001b[0;34m\u001b[0m\u001b[0m\n",
      "\u001b[0;31mCalledProcessError\u001b[0m: Command 'g++ /home/jctuesta/Documents/cppPractice/python/Knapsack_problem/scr/main.cpp -o out;./out' returned non-zero exit status 127."
     ]
    }
   ],
   "source": [
    "Cpp_Execution()\n"
   ]
  },
  {
   "cell_type": "code",
   "execution_count": null,
   "metadata": {},
   "outputs": [
    {
     "data": {
      "text/plain": [
       "['3', '8', '3', '8', '3', '8']"
      ]
     },
     "execution_count": 32,
     "metadata": {},
     "output_type": "execute_result"
    }
   ],
   "source": [
    "import subprocess\n",
    "\n",
    "s = subprocess.check_output(\"g++ /home/jctuesta/Documents/cppPractice/python/Knapsack_problem/scr/main.cpp -o out;./out\", shell = True)\n",
    "\n",
    "a = list(s.decode(\"utf-8\"))\n",
    "\n",
    "b = [x for x in a if x != '\\n']\n",
    "b"
   ]
  },
  {
   "cell_type": "code",
   "execution_count": null,
   "metadata": {},
   "outputs": [
    {
     "name": "stdout",
     "output_type": "stream",
     "text": [
      "[38, 38, 38]\n"
     ]
    }
   ],
   "source": [
    "a = list(s.decode(\"utf-8\").split())\n",
    "a = [int(x) for x in a]\n",
    "print(a)"
   ]
  },
  {
   "cell_type": "code",
   "execution_count": null,
   "metadata": {},
   "outputs": [],
   "source": []
  },
  {
   "cell_type": "code",
   "execution_count": null,
   "metadata": {},
   "outputs": [],
   "source": []
  }
 ],
 "metadata": {
  "interpreter": {
   "hash": "3e013d30b648d552f53b2ccd0546ca49e94f1a6464ffd7e05d9fab58f53c3528"
  },
  "kernelspec": {
   "display_name": "Python 3.9.7 ('base')",
   "language": "python",
   "name": "python3"
  },
  "language_info": {
   "codemirror_mode": {
    "name": "ipython",
    "version": 3
   },
   "file_extension": ".py",
   "mimetype": "text/x-python",
   "name": "python",
   "nbconvert_exporter": "python",
   "pygments_lexer": "ipython3",
   "version": "3.9.7"
  },
  "orig_nbformat": 4
 },
 "nbformat": 4,
 "nbformat_minor": 2
}
